{
 "cells": [
  {
   "cell_type": "code",
   "execution_count": 1,
   "id": "530d3e59",
   "metadata": {},
   "outputs": [],
   "source": [
    "import pandas as pd\n",
    "import numpy as np\n",
    "import seaborn as sns\n",
    "import matplotlib.pyplot as plt\n",
    "from sklearn.model_selection import train_test_split\n",
    "from sklearn.ensemble import RandomForestClassifier\n",
    "from sklearn.preprocessing import LabelEncoder, RobustScaler\n",
    "from sklearn.metrics import classification_report, accuracy_score\n",
    "from sklearn.pipeline import Pipeline\n",
    "from joblib import dump"
   ]
  },
  {
   "cell_type": "code",
   "execution_count": 2,
   "id": "47eb9486",
   "metadata": {},
   "outputs": [],
   "source": [
    "# Load dataset\n",
    "df = pd.read_csv('fertilizer_recommendation_dataset.csv')"
   ]
  },
  {
   "cell_type": "code",
   "execution_count": 3,
   "id": "e7b11c56",
   "metadata": {},
   "outputs": [],
   "source": [
    "# Feature lists\n",
    "numeric_cols = ['Temperature', 'Moisture', 'Rainfall', 'PH',\n",
    "                'Nitrogen', 'Phosphorous', 'Potassium', 'Carbon']"
   ]
  },
  {
   "cell_type": "code",
   "execution_count": 4,
   "id": "7b4f940b",
   "metadata": {},
   "outputs": [],
   "source": [
    "# Encode categorical features\n",
    "df = pd.get_dummies(df, columns=['Soil'], drop_first=True)"
   ]
  },
  {
   "cell_type": "code",
   "execution_count": 5,
   "id": "b39d7191",
   "metadata": {},
   "outputs": [],
   "source": [
    "# Label encode 'Crop'\n",
    "le_crop = LabelEncoder()\n",
    "df['Crop'] = le_crop.fit_transform(df['Crop'])"
   ]
  },
  {
   "cell_type": "code",
   "execution_count": 6,
   "id": "1feb243a",
   "metadata": {},
   "outputs": [
    {
     "data": {
      "text/plain": [
       "['crop_label_encoder.joblib']"
      ]
     },
     "execution_count": 6,
     "metadata": {},
     "output_type": "execute_result"
    }
   ],
   "source": [
    "# Save Crop label encoder\n",
    "dump(le_crop, 'crop_label_encoder.joblib')"
   ]
  },
  {
   "cell_type": "code",
   "execution_count": 7,
   "id": "aff95213",
   "metadata": {},
   "outputs": [],
   "source": [
    "# Create mapping of Fertilizer to Remark for later use\n",
    "fertilizer_to_remark = df.drop_duplicates(subset=['Fertilizer']).set_index('Fertilizer')['Remark'].to_dict()"
   ]
  },
  {
   "cell_type": "code",
   "execution_count": 8,
   "id": "d6c10173",
   "metadata": {},
   "outputs": [],
   "source": [
    "# Drop 'Remark' column for training\n",
    "df = df.drop(columns=['Remark'])"
   ]
  },
  {
   "cell_type": "code",
   "execution_count": 9,
   "id": "50ff10f3",
   "metadata": {},
   "outputs": [],
   "source": [
    "# Define input and output\n",
    "X = df.drop('Fertilizer', axis=1)\n",
    "y = df['Fertilizer']"
   ]
  },
  {
   "cell_type": "code",
   "execution_count": 10,
   "id": "07387d8e",
   "metadata": {},
   "outputs": [],
   "source": [
    "# Train/test split\n",
    "X_train, X_test, y_train, y_test = train_test_split(X, y, stratify=y, test_size=0.2, random_state=42)"
   ]
  },
  {
   "cell_type": "code",
   "execution_count": 11,
   "id": "c19b9840",
   "metadata": {},
   "outputs": [],
   "source": [
    "# Define preprocessing and model pipeline\n",
    "pipeline = Pipeline([\n",
    "    ('scaler', RobustScaler()),\n",
    "    ('classifier', RandomForestClassifier(n_estimators=100, random_state=42))\n",
    "])"
   ]
  },
  {
   "cell_type": "code",
   "execution_count": 12,
   "id": "dd0dbb16",
   "metadata": {},
   "outputs": [
    {
     "data": {
      "text/html": [
       "<style>#sk-container-id-1 {color: black;}#sk-container-id-1 pre{padding: 0;}#sk-container-id-1 div.sk-toggleable {background-color: white;}#sk-container-id-1 label.sk-toggleable__label {cursor: pointer;display: block;width: 100%;margin-bottom: 0;padding: 0.3em;box-sizing: border-box;text-align: center;}#sk-container-id-1 label.sk-toggleable__label-arrow:before {content: \"▸\";float: left;margin-right: 0.25em;color: #696969;}#sk-container-id-1 label.sk-toggleable__label-arrow:hover:before {color: black;}#sk-container-id-1 div.sk-estimator:hover label.sk-toggleable__label-arrow:before {color: black;}#sk-container-id-1 div.sk-toggleable__content {max-height: 0;max-width: 0;overflow: hidden;text-align: left;background-color: #f0f8ff;}#sk-container-id-1 div.sk-toggleable__content pre {margin: 0.2em;color: black;border-radius: 0.25em;background-color: #f0f8ff;}#sk-container-id-1 input.sk-toggleable__control:checked~div.sk-toggleable__content {max-height: 200px;max-width: 100%;overflow: auto;}#sk-container-id-1 input.sk-toggleable__control:checked~label.sk-toggleable__label-arrow:before {content: \"▾\";}#sk-container-id-1 div.sk-estimator input.sk-toggleable__control:checked~label.sk-toggleable__label {background-color: #d4ebff;}#sk-container-id-1 div.sk-label input.sk-toggleable__control:checked~label.sk-toggleable__label {background-color: #d4ebff;}#sk-container-id-1 input.sk-hidden--visually {border: 0;clip: rect(1px 1px 1px 1px);clip: rect(1px, 1px, 1px, 1px);height: 1px;margin: -1px;overflow: hidden;padding: 0;position: absolute;width: 1px;}#sk-container-id-1 div.sk-estimator {font-family: monospace;background-color: #f0f8ff;border: 1px dotted black;border-radius: 0.25em;box-sizing: border-box;margin-bottom: 0.5em;}#sk-container-id-1 div.sk-estimator:hover {background-color: #d4ebff;}#sk-container-id-1 div.sk-parallel-item::after {content: \"\";width: 100%;border-bottom: 1px solid gray;flex-grow: 1;}#sk-container-id-1 div.sk-label:hover label.sk-toggleable__label {background-color: #d4ebff;}#sk-container-id-1 div.sk-serial::before {content: \"\";position: absolute;border-left: 1px solid gray;box-sizing: border-box;top: 0;bottom: 0;left: 50%;z-index: 0;}#sk-container-id-1 div.sk-serial {display: flex;flex-direction: column;align-items: center;background-color: white;padding-right: 0.2em;padding-left: 0.2em;position: relative;}#sk-container-id-1 div.sk-item {position: relative;z-index: 1;}#sk-container-id-1 div.sk-parallel {display: flex;align-items: stretch;justify-content: center;background-color: white;position: relative;}#sk-container-id-1 div.sk-item::before, #sk-container-id-1 div.sk-parallel-item::before {content: \"\";position: absolute;border-left: 1px solid gray;box-sizing: border-box;top: 0;bottom: 0;left: 50%;z-index: -1;}#sk-container-id-1 div.sk-parallel-item {display: flex;flex-direction: column;z-index: 1;position: relative;background-color: white;}#sk-container-id-1 div.sk-parallel-item:first-child::after {align-self: flex-end;width: 50%;}#sk-container-id-1 div.sk-parallel-item:last-child::after {align-self: flex-start;width: 50%;}#sk-container-id-1 div.sk-parallel-item:only-child::after {width: 0;}#sk-container-id-1 div.sk-dashed-wrapped {border: 1px dashed gray;margin: 0 0.4em 0.5em 0.4em;box-sizing: border-box;padding-bottom: 0.4em;background-color: white;}#sk-container-id-1 div.sk-label label {font-family: monospace;font-weight: bold;display: inline-block;line-height: 1.2em;}#sk-container-id-1 div.sk-label-container {text-align: center;}#sk-container-id-1 div.sk-container {/* jupyter's `normalize.less` sets `[hidden] { display: none; }` but bootstrap.min.css set `[hidden] { display: none !important; }` so we also need the `!important` here to be able to override the default hidden behavior on the sphinx rendered scikit-learn.org. See: https://github.com/scikit-learn/scikit-learn/issues/21755 */display: inline-block !important;position: relative;}#sk-container-id-1 div.sk-text-repr-fallback {display: none;}</style><div id=\"sk-container-id-1\" class=\"sk-top-container\"><div class=\"sk-text-repr-fallback\"><pre>Pipeline(steps=[(&#x27;scaler&#x27;, RobustScaler()),\n",
       "                (&#x27;classifier&#x27;, RandomForestClassifier(random_state=42))])</pre><b>In a Jupyter environment, please rerun this cell to show the HTML representation or trust the notebook. <br />On GitHub, the HTML representation is unable to render, please try loading this page with nbviewer.org.</b></div><div class=\"sk-container\" hidden><div class=\"sk-item sk-dashed-wrapped\"><div class=\"sk-label-container\"><div class=\"sk-label sk-toggleable\"><input class=\"sk-toggleable__control sk-hidden--visually\" id=\"sk-estimator-id-1\" type=\"checkbox\" ><label for=\"sk-estimator-id-1\" class=\"sk-toggleable__label sk-toggleable__label-arrow\">Pipeline</label><div class=\"sk-toggleable__content\"><pre>Pipeline(steps=[(&#x27;scaler&#x27;, RobustScaler()),\n",
       "                (&#x27;classifier&#x27;, RandomForestClassifier(random_state=42))])</pre></div></div></div><div class=\"sk-serial\"><div class=\"sk-item\"><div class=\"sk-estimator sk-toggleable\"><input class=\"sk-toggleable__control sk-hidden--visually\" id=\"sk-estimator-id-2\" type=\"checkbox\" ><label for=\"sk-estimator-id-2\" class=\"sk-toggleable__label sk-toggleable__label-arrow\">RobustScaler</label><div class=\"sk-toggleable__content\"><pre>RobustScaler()</pre></div></div></div><div class=\"sk-item\"><div class=\"sk-estimator sk-toggleable\"><input class=\"sk-toggleable__control sk-hidden--visually\" id=\"sk-estimator-id-3\" type=\"checkbox\" ><label for=\"sk-estimator-id-3\" class=\"sk-toggleable__label sk-toggleable__label-arrow\">RandomForestClassifier</label><div class=\"sk-toggleable__content\"><pre>RandomForestClassifier(random_state=42)</pre></div></div></div></div></div></div></div>"
      ],
      "text/plain": [
       "Pipeline(steps=[('scaler', RobustScaler()),\n",
       "                ('classifier', RandomForestClassifier(random_state=42))])"
      ]
     },
     "execution_count": 12,
     "metadata": {},
     "output_type": "execute_result"
    }
   ],
   "source": [
    "# Train the pipeline\n",
    "pipeline.fit(X_train, y_train)"
   ]
  },
  {
   "cell_type": "code",
   "execution_count": 13,
   "id": "2bfe711e",
   "metadata": {},
   "outputs": [],
   "source": [
    "# Predictions\n",
    "y_pred = pipeline.predict(X_test)\n"
   ]
  },
  {
   "cell_type": "code",
   "execution_count": 14,
   "id": "029e54bf",
   "metadata": {},
   "outputs": [
    {
     "name": "stdout",
     "output_type": "stream",
     "text": [
      "Accuracy: 0.9854838709677419\n",
      "\n",
      "Classification Report:\n",
      "                             precision    recall  f1-score   support\n",
      "\n",
      "   Balanced NPK Fertilizer       0.91      1.00      0.95        31\n",
      "                   Compost       0.99      0.99      0.99        75\n",
      "                       DAP       1.00      1.00      1.00       211\n",
      "General Purpose Fertilizer       1.00      1.00      1.00         6\n",
      "                    Gypsum       1.00      0.45      0.62        11\n",
      "                      Lime       1.00      1.00      1.00        36\n",
      "         Muriate of Potash       1.00      1.00      1.00        65\n",
      "        Organic Fertilizer       0.90      1.00      0.95        19\n",
      "                      Urea       1.00      1.00      1.00        31\n",
      "Water Retaining Fertilizer       0.98      0.99      0.99       135\n",
      "\n",
      "                  accuracy                           0.99       620\n",
      "                 macro avg       0.98      0.94      0.95       620\n",
      "              weighted avg       0.99      0.99      0.98       620\n",
      "\n"
     ]
    }
   ],
   "source": [
    "# Evaluation\n",
    "print(\"Accuracy:\", accuracy_score(y_test, y_pred))\n",
    "print(\"\\nClassification Report:\\n\", classification_report(y_test, y_pred))"
   ]
  },
  {
   "cell_type": "code",
   "execution_count": 15,
   "id": "e9ccccdf",
   "metadata": {},
   "outputs": [
    {
     "data": {
      "text/plain": [
       "['fertilizer_model_bundle.joblib']"
      ]
     },
     "execution_count": 15,
     "metadata": {},
     "output_type": "execute_result"
    }
   ],
   "source": [
    "# Save the model and mapping\n",
    "dump({\n",
    "    'model': pipeline,\n",
    "    'fertilizer_to_remark': fertilizer_to_remark\n",
    "}, 'fertilizer_model_bundle.joblib')\n"
   ]
  },
  {
   "cell_type": "code",
   "execution_count": 16,
   "id": "a8300e83",
   "metadata": {},
   "outputs": [],
   "source": [
    "# Example prediction function\n",
    "def predict_fertilizer(input_dict):\n",
    "    input_df = pd.DataFrame([input_dict])\n",
    "\n",
    "    # One-hot encode 'Soil' (manually align with training columns)\n",
    "    for soil in ['Soil_Alkaline Soil', 'Soil_Loamy Soil', 'Soil_Neutral Soil', 'Soil_Peaty Soil']:\n",
    "        input_df[soil] = 0\n",
    "    soil_col = f\"Soil_{input_dict['Soil']}\"\n",
    "    if soil_col in input_df.columns:\n",
    "        input_df[soil_col] = 1\n",
    "    input_df = input_df.drop('Soil', axis=1)\n",
    "\n",
    "    # Encode crop\n",
    "    input_df['Crop'] = le_crop.transform([input_dict['Crop']])[0]\n",
    "\n",
    "    # Predict\n",
    "    pred_fertilizer = pipeline.predict(input_df)[0]\n",
    "    remark = fertilizer_to_remark.get(pred_fertilizer, \"No remark available.\")\n",
    "    return pred_fertilizer, remark"
   ]
  },
  {
   "cell_type": "code",
   "execution_count": 18,
   "id": "f52b1d05",
   "metadata": {},
   "outputs": [],
   "source": [
    "# Example usage\n",
    "# input_features = {\n",
    "#     'Temperature': 25.0,\n",
    "#     'Moisture': 0.7,\n",
    "#     'Rainfall': 200.0,\n",
    "#     'PH': 6.5,\n",
    "#     'Nitrogen': 80,\n",
    "#     'Phosphorous': 60,\n",
    "#     'Potassium': 100,\n",
    "#     'Carbon': 1.2,\n",
    "#     'Soil': 'Loamy Soil',\n",
    "#     'Crop': 'rice'\n",
    "# }\n",
    "# fert, remark = predict_fertilizer(input_features)\n",
    "# print(\"Recommended Fertilizer:\", fert)\n",
    "# print(\"Remark:\", remark)"
   ]
  },
  {
   "cell_type": "code",
   "execution_count": null,
   "id": "3970735e",
   "metadata": {},
   "outputs": [],
   "source": []
  }
 ],
 "metadata": {
  "kernelspec": {
   "display_name": "Python 3 (ipykernel)",
   "language": "python",
   "name": "python3"
  },
  "language_info": {
   "codemirror_mode": {
    "name": "ipython",
    "version": 3
   },
   "file_extension": ".py",
   "mimetype": "text/x-python",
   "name": "python",
   "nbconvert_exporter": "python",
   "pygments_lexer": "ipython3",
   "version": "3.11.5"
  }
 },
 "nbformat": 4,
 "nbformat_minor": 5
}
